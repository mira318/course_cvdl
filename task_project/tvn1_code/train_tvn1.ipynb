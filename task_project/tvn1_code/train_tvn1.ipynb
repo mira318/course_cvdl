{
 "cells": [
  {
   "cell_type": "code",
   "execution_count": 1,
   "id": "6e99c643",
   "metadata": {},
   "outputs": [
    {
     "name": "stderr",
     "output_type": "stream",
     "text": [
      "/home/ichuviliaeva/miniconda3/envs/hw_env/lib/python3.8/site-packages/tqdm/auto.py:22: TqdmWarning: IProgress not found. Please update jupyter and ipywidgets. See https://ipywidgets.readthedocs.io/en/stable/user_install.html\n",
      "  from .autonotebook import tqdm as notebook_tqdm\n"
     ]
    }
   ],
   "source": [
    "from torchvision import transforms\n",
    "from torch.utils import data\n",
    "from tqdm import tqdm\n",
    "import os\n",
    "from vid_dataset import *\n",
    "from tvn1 import *"
   ]
  },
  {
   "cell_type": "code",
   "execution_count": 2,
   "id": "842f9c35",
   "metadata": {},
   "outputs": [],
   "source": [
    "vid_transforms = transforms.Compose([\n",
    "        transforms.ToPILImage(),\n",
    "        transforms.Resize((200, 200)),\n",
    "        transforms.ToTensor(),\n",
    "        transforms.Normalize(mean=[0.5, 0.5, 0.5], std=[0.5, 0.5, 0.5])\n",
    "])"
   ]
  },
  {
   "cell_type": "code",
   "execution_count": 3,
   "id": "ba6819a7",
   "metadata": {},
   "outputs": [],
   "source": [
    "os.environ[\"CUDA_VISIBLE_DEVICES\"]=\"2\""
   ]
  },
  {
   "cell_type": "code",
   "execution_count": 4,
   "id": "291652b6",
   "metadata": {},
   "outputs": [],
   "source": [
    "gpu = torch.device('cuda:0')"
   ]
  },
  {
   "cell_type": "code",
   "execution_count": 5,
   "id": "5fbeee51",
   "metadata": {},
   "outputs": [],
   "source": [
    "torch.cuda.empty_cache()"
   ]
  },
  {
   "cell_type": "code",
   "execution_count": 6,
   "id": "a11a8a30",
   "metadata": {},
   "outputs": [],
   "source": [
    "train_dataset = VideoDataset('/DATA/ichuviliaeva/videos/UCF50/', 'train_index.txt', vid_transforms)\n",
    "\n",
    "val_dataset = VideoDataset('/DATA/ichuviliaeva/videos/UCF50/', 'test_index.txt', vid_transforms)"
   ]
  },
  {
   "cell_type": "code",
   "execution_count": 7,
   "id": "085bfdab",
   "metadata": {},
   "outputs": [],
   "source": [
    "train_dataloader = data.DataLoader(train_dataset, batch_size = 4, shuffle = True)\n",
    "val_dataloader = data.DataLoader(val_dataset, batch_size = 4)"
   ]
  },
  {
   "cell_type": "code",
   "execution_count": 8,
   "id": "5c627787",
   "metadata": {},
   "outputs": [],
   "source": [
    "model = TVN1(50).to(gpu)"
   ]
  },
  {
   "cell_type": "code",
   "execution_count": 9,
   "id": "de92933d",
   "metadata": {},
   "outputs": [],
   "source": [
    "optimizer = torch.optim.Adam(model.parameters())"
   ]
  },
  {
   "cell_type": "code",
   "execution_count": 10,
   "id": "a17a521f",
   "metadata": {},
   "outputs": [],
   "source": [
    "criterion = nn.CrossEntropyLoss()"
   ]
  },
  {
   "cell_type": "code",
   "execution_count": 11,
   "id": "71e3e52f",
   "metadata": {},
   "outputs": [],
   "source": [
    "def train(epoch = 1, verbose = 2, model = model, optimazer = optimizer, criterion = criterion, \n",
    "          train_dataloader = train_dataloader, val_dataloader = val_dataloader):\n",
    "    for t in range(epoch):\n",
    "        loss_list = []\n",
    "        for x, vid_lens, labels in tqdm(train_dataloader):\n",
    "            x = torch.stack([x[b, v] for b in range(x.shape[0]) for v in range(x.shape[1])])\n",
    "            x = x.to(gpu)\n",
    "            vid_lens = vid_lens.to(gpu)\n",
    "            labels = labels.to(gpu)\n",
    "            optimizer.zero_grad()\n",
    "            res = model((x, vid_lens))\n",
    "            loss = criterion(res, labels)\n",
    "            loss_list.append(loss.detach())\n",
    "            loss.backward()\n",
    "            optimizer.step()\n",
    "        print('epoch ', t, ':')\n",
    "        print('mean loss = ', torch.mean(torch.tensor(loss_list)))\n",
    "            \n",
    "        if t % verbose == 0 or t == epoch - 1:\n",
    "            mi = 0\n",
    "            acc = 0\n",
    "            with torch.no_grad():\n",
    "                loss_val_list = []\n",
    "                for x, vid_lens, labels in tqdm(val_dataloader):\n",
    "                    x = torch.stack([x[b, v] for b in range(x.shape[0]) for v in range(x.shape[1])])\n",
    "                    x = x.to(gpu)\n",
    "                    vid_lens = vid_lens.to(gpu)\n",
    "                    labels = labels.to(gpu)\n",
    "                    predicts = model((x, vid_lens))\n",
    "                    loss = criterion(predicts, labels)\n",
    "                    loss_val_list.append(loss.detach())\n",
    "                    acc += torch.sum(torch.eq(torch.argmax(predicts, dim=-1), labels).to(dtype=torch.float64)).item()\n",
    "                    mi += x.shape[0]\n",
    "                print('mean val loss = ', torch.mean(torch.tensor(loss_val_list)))\n",
    "                print('accuracy = ', acc / (mi + (mi == 0)))\n",
    "                torch.save(model.state_dict(), 'tvn1-epoch-' + str(t) + '.pth')"
   ]
  },
  {
   "cell_type": "code",
   "execution_count": null,
   "id": "8d35bc58",
   "metadata": {
    "scrolled": false
   },
   "outputs": [
    {
     "name": "stderr",
     "output_type": "stream",
     "text": [
      "100%|███████████████████████████████████████| 1420/1420 [49:26<00:00,  2.09s/it]\n"
     ]
    },
    {
     "name": "stdout",
     "output_type": "stream",
     "text": [
      "epoch  0 :\n",
      "mean loss =  tensor(3.9325)\n"
     ]
    },
    {
     "name": "stderr",
     "output_type": "stream",
     "text": [
      "100%|█████████████████████████████████████████| 251/251 [06:47<00:00,  1.63s/it]\n"
     ]
    },
    {
     "name": "stdout",
     "output_type": "stream",
     "text": [
      "mean val loss =  tensor(3.9014)\n",
      "accuracy =  0.0009346959122632103\n"
     ]
    },
    {
     "name": "stderr",
     "output_type": "stream",
     "text": [
      "100%|███████████████████████████████████████| 1420/1420 [48:39<00:00,  2.06s/it]\n"
     ]
    },
    {
     "name": "stdout",
     "output_type": "stream",
     "text": [
      "epoch  1 :\n",
      "mean loss =  tensor(3.9064)\n"
     ]
    },
    {
     "name": "stderr",
     "output_type": "stream",
     "text": [
      "100%|███████████████████████████████████████| 1420/1420 [52:30<00:00,  2.22s/it]\n"
     ]
    },
    {
     "name": "stdout",
     "output_type": "stream",
     "text": [
      "epoch  2 :\n",
      "mean loss =  tensor(3.9056)\n"
     ]
    },
    {
     "name": "stderr",
     "output_type": "stream",
     "text": [
      "100%|█████████████████████████████████████████| 251/251 [07:22<00:00,  1.76s/it]\n"
     ]
    },
    {
     "name": "stdout",
     "output_type": "stream",
     "text": [
      "mean val loss =  tensor(3.9049)\n",
      "accuracy =  0.0009346959122632103\n"
     ]
    },
    {
     "name": "stderr",
     "output_type": "stream",
     "text": [
      "100%|███████████████████████████████████████| 1420/1420 [51:37<00:00,  2.18s/it]\n"
     ]
    },
    {
     "name": "stdout",
     "output_type": "stream",
     "text": [
      "epoch  3 :\n",
      "mean loss =  tensor(333984.1250)\n"
     ]
    },
    {
     "name": "stderr",
     "output_type": "stream",
     "text": [
      "100%|███████████████████████████████████████| 1420/1420 [50:32<00:00,  2.14s/it]\n"
     ]
    },
    {
     "name": "stdout",
     "output_type": "stream",
     "text": [
      "epoch  4 :\n",
      "mean loss =  tensor(27.9725)\n"
     ]
    },
    {
     "name": "stderr",
     "output_type": "stream",
     "text": [
      "100%|█████████████████████████████████████████| 251/251 [07:04<00:00,  1.69s/it]\n"
     ]
    },
    {
     "name": "stdout",
     "output_type": "stream",
     "text": [
      "mean val loss =  tensor(3.9038)\n",
      "accuracy =  0.0009346959122632103\n"
     ]
    },
    {
     "name": "stderr",
     "output_type": "stream",
     "text": [
      " 81%|███████████████████████████████▋       | 1153/1420 [41:01<10:00,  2.25s/it]"
     ]
    }
   ],
   "source": [
    "train(epoch = 20)"
   ]
  },
  {
   "cell_type": "code",
   "execution_count": null,
   "id": "87243296",
   "metadata": {},
   "outputs": [],
   "source": []
  }
 ],
 "metadata": {
  "kernelspec": {
   "display_name": "Python 3 (ipykernel)",
   "language": "python",
   "name": "python3"
  },
  "language_info": {
   "codemirror_mode": {
    "name": "ipython",
    "version": 3
   },
   "file_extension": ".py",
   "mimetype": "text/x-python",
   "name": "python",
   "nbconvert_exporter": "python",
   "pygments_lexer": "ipython3",
   "version": "3.8.15"
  }
 },
 "nbformat": 4,
 "nbformat_minor": 5
}
