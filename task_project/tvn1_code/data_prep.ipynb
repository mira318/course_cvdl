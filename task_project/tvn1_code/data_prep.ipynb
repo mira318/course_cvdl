{
 "cells": [
  {
   "cell_type": "code",
   "execution_count": 1,
   "id": "f9ac6795",
   "metadata": {},
   "outputs": [],
   "source": [
    "import os"
   ]
  },
  {
   "cell_type": "code",
   "execution_count": 2,
   "id": "b2d24ee6",
   "metadata": {},
   "outputs": [],
   "source": [
    "classes = []\n",
    "\n",
    "with open('class_index.txt', 'w') as f:\n",
    "    for i, d in enumerate(os.listdir('/DATA/ichuviliaeva/videos/UCF50')):\n",
    "        classes.append(d)\n",
    "        f.write('%s %d \\n' %(d, i))"
   ]
  },
  {
   "cell_type": "code",
   "execution_count": 3,
   "id": "7d6336e4",
   "metadata": {},
   "outputs": [],
   "source": [
    "X = []\n",
    "y = []\n",
    "for i, c in enumerate(classes):\n",
    "    for d in enumerate(os.listdir('/DATA/ichuviliaeva/videos/UCF50/' + c)):\n",
    "        X.append(str(c) + '/' + str(d[1]))\n",
    "        y.append(i)"
   ]
  },
  {
   "cell_type": "code",
   "execution_count": 4,
   "id": "582bf4ef",
   "metadata": {},
   "outputs": [],
   "source": [
    "from sklearn.model_selection import train_test_split"
   ]
  },
  {
   "cell_type": "code",
   "execution_count": 5,
   "id": "d4426ca4",
   "metadata": {},
   "outputs": [],
   "source": [
    "X_train, X_test, y_train, y_test = train_test_split(X, y, test_size = 0.15)"
   ]
  },
  {
   "cell_type": "code",
   "execution_count": 6,
   "id": "c8189427",
   "metadata": {},
   "outputs": [],
   "source": [
    "with open('train_index.txt', 'w') as f:\n",
    "    for vid, c in zip(X_train, y_train):\n",
    "        f.write('%s %d \\n' %(vid, c))"
   ]
  },
  {
   "cell_type": "code",
   "execution_count": 7,
   "id": "692019ab",
   "metadata": {},
   "outputs": [],
   "source": [
    "with open('test_index.txt', 'w') as f:\n",
    "    for vid, c in zip(X_test, y_test):\n",
    "        f.write('%s %d \\n' %(vid, c))"
   ]
  },
  {
   "cell_type": "code",
   "execution_count": 8,
   "id": "20c179bd",
   "metadata": {},
   "outputs": [],
   "source": [
    "vid_f = X_train[0]\n",
    "c = y_train[0]"
   ]
  },
  {
   "cell_type": "code",
   "execution_count": 9,
   "id": "d260e884",
   "metadata": {},
   "outputs": [
    {
     "name": "stderr",
     "output_type": "stream",
     "text": [
      "/home/ichuviliaeva/miniconda3/envs/hw_env/lib/python3.8/site-packages/tqdm/auto.py:22: TqdmWarning: IProgress not found. Please update jupyter and ipywidgets. See https://ipywidgets.readthedocs.io/en/stable/user_install.html\n",
      "  from .autonotebook import tqdm as notebook_tqdm\n"
     ]
    }
   ],
   "source": [
    "import cv2\n",
    "from torchvision import transforms"
   ]
  },
  {
   "cell_type": "code",
   "execution_count": 10,
   "id": "eb0e875e",
   "metadata": {},
   "outputs": [],
   "source": [
    "train_transforms = transforms.Compose([\n",
    "        transforms.ToPILImage(),\n",
    "        transforms.Resize((256, 256)),\n",
    "        transforms.ToTensor(),\n",
    "        transforms.Normalize(mean=[0.5, 0.5, 0.5], std=[0.5, 0.5, 0.5])\n",
    "])"
   ]
  },
  {
   "cell_type": "code",
   "execution_count": 14,
   "id": "d27e8d3e",
   "metadata": {},
   "outputs": [
    {
     "name": "stdout",
     "output_type": "stream",
     "text": [
      "157\n"
     ]
    }
   ],
   "source": [
    "path = '/DATA/ichuviliaeva/videos/UCF50/' + vid_f\n",
    "catcher = cv2.VideoCapture(path)\n",
    "success, image = catcher.read()\n",
    "images = []\n",
    "while success:\n",
    "    image = cv2.cvtColor(image, cv2.COLOR_BGR2RGB)\n",
    "    image = train_transforms(image)\n",
    "    images.append(image)\n",
    "    success, image = catcher.read()\n",
    "print(len(images))"
   ]
  },
  {
   "cell_type": "code",
   "execution_count": null,
   "id": "a894c44c",
   "metadata": {},
   "outputs": [],
   "source": []
  }
 ],
 "metadata": {
  "kernelspec": {
   "display_name": "Python 3 (ipykernel)",
   "language": "python",
   "name": "python3"
  },
  "language_info": {
   "codemirror_mode": {
    "name": "ipython",
    "version": 3
   },
   "file_extension": ".py",
   "mimetype": "text/x-python",
   "name": "python",
   "nbconvert_exporter": "python",
   "pygments_lexer": "ipython3",
   "version": "3.8.15"
  }
 },
 "nbformat": 4,
 "nbformat_minor": 5
}
