{
 "cells": [
  {
   "cell_type": "code",
   "execution_count": 1,
   "id": "00307a18",
   "metadata": {},
   "outputs": [
    {
     "name": "stderr",
     "output_type": "stream",
     "text": [
      "/home/ichuviliaeva/miniconda3/envs/hw_env/lib/python3.8/site-packages/tqdm/auto.py:22: TqdmWarning: IProgress not found. Please update jupyter and ipywidgets. See https://ipywidgets.readthedocs.io/en/stable/user_install.html\n",
      "  from .autonotebook import tqdm as notebook_tqdm\n"
     ]
    }
   ],
   "source": [
    "from vid_dataset import *\n",
    "from torchvision import transforms\n",
    "from torch.utils import data"
   ]
  },
  {
   "cell_type": "code",
   "execution_count": 2,
   "id": "c4c7f156",
   "metadata": {},
   "outputs": [],
   "source": [
    "transforms = transforms.Compose([\n",
    "        transforms.ToPILImage(),\n",
    "        transforms.Resize((256, 256)),\n",
    "        transforms.ToTensor(),\n",
    "        transforms.Normalize(mean=[0.5, 0.5, 0.5], std=[0.5, 0.5, 0.5])\n",
    "])"
   ]
  },
  {
   "cell_type": "code",
   "execution_count": 3,
   "id": "d5777e10",
   "metadata": {},
   "outputs": [],
   "source": [
    "dataset = VideoDataset('/DATA/ichuviliaeva/videos/UCF50/', 'train_index.txt', transforms, False)"
   ]
  },
  {
   "cell_type": "code",
   "execution_count": 4,
   "id": "00d54afd",
   "metadata": {},
   "outputs": [],
   "source": [
    "train_dataloader = data.DataLoader(dataset, batch_size = 4, shuffle = True)"
   ]
  },
  {
   "cell_type": "code",
   "execution_count": 5,
   "id": "770a41a5",
   "metadata": {},
   "outputs": [
    {
     "name": "stdout",
     "output_type": "stream",
     "text": [
      "x.shape =  torch.Size([4, 3, 128, 256, 256])\n",
      "x.shape =  torch.Size([4, 3, 128, 256, 256])\n",
      "x.shape =  torch.Size([4, 3, 128, 256, 256])\n",
      "x.shape =  torch.Size([4, 3, 128, 256, 256])\n",
      "x.shape =  torch.Size([4, 3, 128, 256, 256])\n",
      "x.shape =  torch.Size([4, 3, 128, 256, 256])\n",
      "x.shape =  torch.Size([4, 3, 128, 256, 256])\n",
      "x.shape =  torch.Size([4, 3, 128, 256, 256])\n",
      "x.shape =  torch.Size([4, 3, 128, 256, 256])\n",
      "x.shape =  torch.Size([4, 3, 128, 256, 256])\n",
      "x.shape =  torch.Size([4, 3, 128, 256, 256])\n"
     ]
    }
   ],
   "source": [
    "i = 0\n",
    "for x, labels in train_dataloader:\n",
    "    print('x.shape = ', x.shape)\n",
    "    i += 1\n",
    "    if i > 10:\n",
    "        break"
   ]
  },
  {
   "cell_type": "code",
   "execution_count": null,
   "id": "3a68d7ec",
   "metadata": {},
   "outputs": [],
   "source": []
  }
 ],
 "metadata": {
  "kernelspec": {
   "display_name": "Python 3 (ipykernel)",
   "language": "python",
   "name": "python3"
  },
  "language_info": {
   "codemirror_mode": {
    "name": "ipython",
    "version": 3
   },
   "file_extension": ".py",
   "mimetype": "text/x-python",
   "name": "python",
   "nbconvert_exporter": "python",
   "pygments_lexer": "ipython3",
   "version": "3.8.15"
  }
 },
 "nbformat": 4,
 "nbformat_minor": 5
}
