{
 "cells": [
  {
   "cell_type": "code",
   "execution_count": 1,
   "id": "0f9956e8",
   "metadata": {},
   "outputs": [
    {
     "name": "stderr",
     "output_type": "stream",
     "text": [
      "/home/ichuviliaeva/miniconda3/envs/hw_env/lib/python3.8/site-packages/tqdm/auto.py:22: TqdmWarning: IProgress not found. Please update jupyter and ipywidgets. See https://ipywidgets.readthedocs.io/en/stable/user_install.html\n",
      "  from .autonotebook import tqdm as notebook_tqdm\n"
     ]
    }
   ],
   "source": [
    "from tvn1 import *"
   ]
  },
  {
   "cell_type": "code",
   "execution_count": 6,
   "id": "81a1fa98",
   "metadata": {},
   "outputs": [],
   "source": [
    "model = TVN1(50)"
   ]
  },
  {
   "cell_type": "code",
   "execution_count": 7,
   "id": "25f21f8e",
   "metadata": {},
   "outputs": [],
   "source": [
    "trying_vid = torch.rand(2 * 4, 3, 256, 256)\n",
    "vid_lens = [2, 2, 2, 2]"
   ]
  },
  {
   "cell_type": "code",
   "execution_count": 8,
   "id": "31031401",
   "metadata": {
    "scrolled": false
   },
   "outputs": [
    {
     "name": "stdout",
     "output_type": "stream",
     "text": [
      "before head x.shape =  torch.Size([4, 512])\n"
     ]
    },
    {
     "data": {
      "text/plain": [
       "tensor([[ 0.0297,  0.0696,  0.0011, -0.0450,  0.0401,  0.0165, -0.0149, -0.0126,\n",
       "         -0.0305, -0.0060, -0.0492, -0.0337,  0.0100, -0.0572,  0.0047,  0.0266,\n",
       "         -0.0430, -0.0239,  0.0366, -0.0405,  0.0512, -0.0324, -0.0366, -0.0057,\n",
       "         -0.0189,  0.0287,  0.0048, -0.0079, -0.0211,  0.0293,  0.0607,  0.0152,\n",
       "          0.0225,  0.0013,  0.0380, -0.0087,  0.0063, -0.0357, -0.0395,  0.0123,\n",
       "         -0.0350,  0.0311, -0.0033,  0.0189,  0.0148,  0.0059,  0.0451, -0.0094,\n",
       "          0.0086, -0.0127],\n",
       "        [ 0.0297,  0.0696,  0.0011, -0.0450,  0.0401,  0.0165, -0.0149, -0.0126,\n",
       "         -0.0305, -0.0060, -0.0492, -0.0337,  0.0100, -0.0572,  0.0047,  0.0266,\n",
       "         -0.0430, -0.0239,  0.0366, -0.0405,  0.0512, -0.0324, -0.0366, -0.0057,\n",
       "         -0.0189,  0.0287,  0.0048, -0.0079, -0.0211,  0.0293,  0.0607,  0.0152,\n",
       "          0.0225,  0.0013,  0.0380, -0.0087,  0.0063, -0.0357, -0.0395,  0.0123,\n",
       "         -0.0350,  0.0311, -0.0033,  0.0188,  0.0148,  0.0059,  0.0451, -0.0094,\n",
       "          0.0086, -0.0127],\n",
       "        [ 0.0297,  0.0696,  0.0011, -0.0450,  0.0401,  0.0165, -0.0149, -0.0126,\n",
       "         -0.0305, -0.0060, -0.0492, -0.0337,  0.0100, -0.0572,  0.0047,  0.0266,\n",
       "         -0.0430, -0.0239,  0.0366, -0.0405,  0.0512, -0.0324, -0.0366, -0.0057,\n",
       "         -0.0189,  0.0287,  0.0048, -0.0079, -0.0211,  0.0293,  0.0607,  0.0152,\n",
       "          0.0225,  0.0013,  0.0380, -0.0087,  0.0063, -0.0357, -0.0395,  0.0123,\n",
       "         -0.0350,  0.0311, -0.0033,  0.0188,  0.0148,  0.0059,  0.0451, -0.0094,\n",
       "          0.0086, -0.0127],\n",
       "        [ 0.0297,  0.0696,  0.0011, -0.0450,  0.0401,  0.0165, -0.0149, -0.0126,\n",
       "         -0.0305, -0.0060, -0.0492, -0.0337,  0.0100, -0.0572,  0.0047,  0.0266,\n",
       "         -0.0430, -0.0239,  0.0366, -0.0405,  0.0512, -0.0324, -0.0366, -0.0057,\n",
       "         -0.0189,  0.0287,  0.0048, -0.0079, -0.0211,  0.0293,  0.0607,  0.0152,\n",
       "          0.0225,  0.0013,  0.0380, -0.0087,  0.0063, -0.0357, -0.0395,  0.0123,\n",
       "         -0.0350,  0.0311, -0.0033,  0.0189,  0.0148,  0.0059,  0.0451, -0.0094,\n",
       "          0.0086, -0.0127]], grad_fn=<AddmmBackward>)"
      ]
     },
     "execution_count": 8,
     "metadata": {},
     "output_type": "execute_result"
    }
   ],
   "source": [
    "model((trying_vid, vid_lens))"
   ]
  },
  {
   "cell_type": "code",
   "execution_count": 9,
   "id": "d717e28b",
   "metadata": {},
   "outputs": [],
   "source": [
    "criterion = nn.CrossEntropyLoss()"
   ]
  },
  {
   "cell_type": "code",
   "execution_count": null,
   "id": "a2c6c06a",
   "metadata": {},
   "outputs": [],
   "source": []
  }
 ],
 "metadata": {
  "kernelspec": {
   "display_name": "Python 3 (ipykernel)",
   "language": "python",
   "name": "python3"
  },
  "language_info": {
   "codemirror_mode": {
    "name": "ipython",
    "version": 3
   },
   "file_extension": ".py",
   "mimetype": "text/x-python",
   "name": "python",
   "nbconvert_exporter": "python",
   "pygments_lexer": "ipython3",
   "version": "3.8.15"
  }
 },
 "nbformat": 4,
 "nbformat_minor": 5
}
