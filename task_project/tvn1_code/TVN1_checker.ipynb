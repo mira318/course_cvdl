{
 "cells": [
  {
   "cell_type": "code",
   "execution_count": 1,
   "id": "911e551d",
   "metadata": {},
   "outputs": [
    {
     "name": "stderr",
     "output_type": "stream",
     "text": [
      "/home/ichuviliaeva/miniconda3/envs/hw_env/lib/python3.8/site-packages/tqdm/auto.py:22: TqdmWarning: IProgress not found. Please update jupyter and ipywidgets. See https://ipywidgets.readthedocs.io/en/stable/user_install.html\n",
      "  from .autonotebook import tqdm as notebook_tqdm\n"
     ]
    }
   ],
   "source": [
    "from tvn1 import *"
   ]
  },
  {
   "cell_type": "code",
   "execution_count": 2,
   "id": "841e4b1d",
   "metadata": {},
   "outputs": [],
   "source": [
    "model = TVN1(7)"
   ]
  },
  {
   "cell_type": "code",
   "execution_count": 3,
   "id": "c78e4085",
   "metadata": {},
   "outputs": [],
   "source": [
    "trying_vid = torch.rand(2 * 4, 3, 256, 256)\n",
    "vid_lens = [2, 2, 2, 2]"
   ]
  },
  {
   "cell_type": "code",
   "execution_count": 4,
   "id": "e16007da",
   "metadata": {
    "scrolled": false
   },
   "outputs": [
    {
     "name": "stdout",
     "output_type": "stream",
     "text": [
      "before head x.shape =  torch.Size([4, 512])\n"
     ]
    },
    {
     "data": {
      "text/plain": [
       "tensor([[-0.0122,  0.0452,  0.0039, -0.0348, -0.0064, -0.0268,  0.0138],\n",
       "        [-0.0122,  0.0452,  0.0039, -0.0348, -0.0064, -0.0268,  0.0138],\n",
       "        [-0.0122,  0.0452,  0.0039, -0.0348, -0.0064, -0.0268,  0.0138],\n",
       "        [-0.0122,  0.0452,  0.0039, -0.0348, -0.0064, -0.0268,  0.0138]],\n",
       "       grad_fn=<AddmmBackward>)"
      ]
     },
     "execution_count": 4,
     "metadata": {},
     "output_type": "execute_result"
    }
   ],
   "source": [
    "model((trying_vid, vid_lens))"
   ]
  },
  {
   "cell_type": "code",
   "execution_count": 5,
   "id": "dc3ba056",
   "metadata": {},
   "outputs": [],
   "source": [
    "criterion = nn.CrossEntropyLoss()"
   ]
  },
  {
   "cell_type": "code",
   "execution_count": null,
   "id": "cf50cc90",
   "metadata": {},
   "outputs": [],
   "source": []
  }
 ],
 "metadata": {
  "kernelspec": {
   "display_name": "Python 3 (ipykernel)",
   "language": "python",
   "name": "python3"
  },
  "language_info": {
   "codemirror_mode": {
    "name": "ipython",
    "version": 3
   },
   "file_extension": ".py",
   "mimetype": "text/x-python",
   "name": "python",
   "nbconvert_exporter": "python",
   "pygments_lexer": "ipython3",
   "version": "3.8.15"
  }
 },
 "nbformat": 4,
 "nbformat_minor": 5
}
