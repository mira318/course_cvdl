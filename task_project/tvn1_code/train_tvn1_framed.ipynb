{
 "cells": [
  {
   "cell_type": "code",
   "execution_count": 1,
   "id": "3a4da781",
   "metadata": {},
   "outputs": [
    {
     "name": "stderr",
     "output_type": "stream",
     "text": [
      "/home/ichuviliaeva/miniconda3/envs/hw_env/lib/python3.8/site-packages/tqdm/auto.py:22: TqdmWarning: IProgress not found. Please update jupyter and ipywidgets. See https://ipywidgets.readthedocs.io/en/stable/user_install.html\n",
      "  from .autonotebook import tqdm as notebook_tqdm\n"
     ]
    }
   ],
   "source": [
    "from torchvision import transforms\n",
    "from torch.utils import data\n",
    "from tqdm import tqdm\n",
    "import os\n",
    "from vid_dataset_framed import *\n",
    "from tvn1 import *"
   ]
  },
  {
   "cell_type": "code",
   "execution_count": 2,
   "id": "985b24e1",
   "metadata": {},
   "outputs": [],
   "source": [
    "vid_transforms = transforms.Compose([\n",
    "        transforms.ToPILImage(),\n",
    "        transforms.Resize((200, 200)),\n",
    "        transforms.ToTensor(),\n",
    "        transforms.Normalize(mean=[0.5, 0.5, 0.5], std=[0.5, 0.5, 0.5])\n",
    "])"
   ]
  },
  {
   "cell_type": "code",
   "execution_count": 3,
   "id": "a9e7e9d5",
   "metadata": {},
   "outputs": [],
   "source": [
    "os.environ[\"CUDA_VISIBLE_DEVICES\"]=\"1\""
   ]
  },
  {
   "cell_type": "code",
   "execution_count": 4,
   "id": "0d2d71db",
   "metadata": {},
   "outputs": [],
   "source": [
    "gpu = torch.device('cuda:0')"
   ]
  },
  {
   "cell_type": "code",
   "execution_count": 5,
   "id": "bfc28e73",
   "metadata": {},
   "outputs": [],
   "source": [
    "torch.cuda.empty_cache()"
   ]
  },
  {
   "cell_type": "code",
   "execution_count": 6,
   "id": "2ce15dc7",
   "metadata": {},
   "outputs": [],
   "source": [
    "train_dataset = VideoDataset('/DATA/ichuviliaeva/videos/UCF50/', 'train_index.txt', vid_transforms)\n",
    "\n",
    "val_dataset = VideoDataset('/DATA/ichuviliaeva/videos/UCF50/', 'test_index.txt', vid_transforms)"
   ]
  },
  {
   "cell_type": "code",
   "execution_count": 7,
   "id": "8b5be2ac",
   "metadata": {},
   "outputs": [],
   "source": [
    "train_dataloader = data.DataLoader(train_dataset, batch_size = 4, shuffle = True)\n",
    "val_dataloader = data.DataLoader(val_dataset, batch_size = 4)"
   ]
  },
  {
   "cell_type": "code",
   "execution_count": 8,
   "id": "71988c00",
   "metadata": {},
   "outputs": [],
   "source": [
    "model = TVN1(50).to(gpu)"
   ]
  },
  {
   "cell_type": "code",
   "execution_count": 9,
   "id": "06348b60",
   "metadata": {},
   "outputs": [],
   "source": [
    "optimizer = torch.optim.Adam(model.parameters())"
   ]
  },
  {
   "cell_type": "code",
   "execution_count": 10,
   "id": "7b45aa2e",
   "metadata": {},
   "outputs": [],
   "source": [
    "criterion = nn.CrossEntropyLoss()"
   ]
  },
  {
   "cell_type": "code",
   "execution_count": 11,
   "id": "068f4899",
   "metadata": {},
   "outputs": [],
   "source": [
    "def train(epoch = 1, verbose = 2, model = model, optimazer = optimizer, criterion = criterion, \n",
    "          train_dataloader = train_dataloader, val_dataloader = val_dataloader):\n",
    "    for t in range(epoch):\n",
    "        loss_list = []\n",
    "        for x, vid_lens, labels in tqdm(train_dataloader):\n",
    "            x = torch.stack([x[b, v] for b in range(x.shape[0]) for v in range(x.shape[1])])\n",
    "            x = x.to(gpu)\n",
    "            vid_lens = vid_lens.to(gpu)\n",
    "            labels = labels.to(gpu)\n",
    "            optimizer.zero_grad()\n",
    "            res = model((x, vid_lens))\n",
    "            loss = criterion(res, labels)\n",
    "            loss_list.append(loss.detach())\n",
    "            loss.backward()\n",
    "            optimizer.step()\n",
    "\n",
    "        print('epoch ', t, ':')\n",
    "        print('mean loss = ', torch.mean(torch.tensor(loss_list)))\n",
    "            \n",
    "        if t % verbose == 0 or t == epoch - 1:\n",
    "            mi = 0\n",
    "            acc = 0\n",
    "            with torch.no_grad():\n",
    "                loss_val_list = []\n",
    "                for x, vid_lens, labels in tqdm(val_dataloader):\n",
    "                    x = torch.stack([x[b, v] for b in range(x.shape[0]) for v in range(x.shape[1])])\n",
    "                    x = x.to(gpu)\n",
    "                    vid_lens = vid_lens.to(gpu)\n",
    "                    labels = labels.to(gpu)\n",
    "                    predicts = model((x, vid_lens))\n",
    "                    loss = criterion(predicts, labels)\n",
    "                    loss_val_list.append(loss.detach())\n",
    "                    acc += torch.sum(torch.eq(torch.argmax(predicts, dim=-1), labels).to(dtype=torch.float64)).item()\n",
    "                    mi += x.shape[0]\n",
    "                print('mean val loss = ', torch.mean(torch.tensor(loss_val_list)))\n",
    "                print('accuracy = ', acc / (mi + (mi == 0)))\n",
    "                \n",
    "                if t % verbose % 2 == 0 or t == epoch - 1:\n",
    "                    torch.save(model.state_dict(), 'tvn1-epoch-' + str(t) + '-framed.pth')"
   ]
  },
  {
   "cell_type": "code",
   "execution_count": null,
   "id": "bfa89c67",
   "metadata": {
    "scrolled": false
   },
   "outputs": [
    {
     "name": "stderr",
     "output_type": "stream",
     "text": [
      "100%|███████████████████████████████████████| 1420/1420 [13:20<00:00,  1.77it/s]\n"
     ]
    },
    {
     "name": "stdout",
     "output_type": "stream",
     "text": [
      "epoch  0 :\n",
      "mean loss =  tensor(3.9117)\n"
     ]
    },
    {
     "name": "stderr",
     "output_type": "stream",
     "text": [
      "100%|█████████████████████████████████████████| 251/251 [01:55<00:00,  2.18it/s]\n"
     ]
    },
    {
     "name": "stdout",
     "output_type": "stream",
     "text": [
      "mean val loss =  tensor(3.9076)\n",
      "accuracy =  0.0037387836490528413\n"
     ]
    },
    {
     "name": "stderr",
     "output_type": "stream",
     "text": [
      "100%|███████████████████████████████████████| 1420/1420 [15:08<00:00,  1.56it/s]\n"
     ]
    },
    {
     "name": "stdout",
     "output_type": "stream",
     "text": [
      "epoch  1 :\n",
      "mean loss =  tensor(3.9067)\n"
     ]
    },
    {
     "name": "stderr",
     "output_type": "stream",
     "text": [
      "100%|███████████████████████████████████████| 1420/1420 [14:37<00:00,  1.62it/s]\n"
     ]
    },
    {
     "name": "stdout",
     "output_type": "stream",
     "text": [
      "epoch  2 :\n",
      "mean loss =  tensor(3.9055)\n"
     ]
    },
    {
     "name": "stderr",
     "output_type": "stream",
     "text": [
      "100%|█████████████████████████████████████████| 251/251 [01:52<00:00,  2.24it/s]\n"
     ]
    },
    {
     "name": "stdout",
     "output_type": "stream",
     "text": [
      "mean val loss =  tensor(3.9034)\n",
      "accuracy =  0.0037387836490528413\n"
     ]
    },
    {
     "name": "stderr",
     "output_type": "stream",
     "text": [
      "100%|███████████████████████████████████████| 1420/1420 [14:32<00:00,  1.63it/s]\n"
     ]
    },
    {
     "name": "stdout",
     "output_type": "stream",
     "text": [
      "epoch  3 :\n",
      "mean loss =  tensor(3.9059)\n"
     ]
    },
    {
     "name": "stderr",
     "output_type": "stream",
     "text": [
      "100%|███████████████████████████████████████| 1420/1420 [14:34<00:00,  1.62it/s]\n"
     ]
    },
    {
     "name": "stdout",
     "output_type": "stream",
     "text": [
      "epoch  4 :\n",
      "mean loss =  tensor(3.9049)\n"
     ]
    },
    {
     "name": "stderr",
     "output_type": "stream",
     "text": [
      "100%|█████████████████████████████████████████| 251/251 [01:51<00:00,  2.25it/s]\n"
     ]
    },
    {
     "name": "stdout",
     "output_type": "stream",
     "text": [
      "mean val loss =  tensor(3.9089)\n",
      "accuracy =  0.0024925224327018943\n"
     ]
    },
    {
     "name": "stderr",
     "output_type": "stream",
     "text": [
      "100%|███████████████████████████████████████| 1420/1420 [14:22<00:00,  1.65it/s]\n"
     ]
    },
    {
     "name": "stdout",
     "output_type": "stream",
     "text": [
      "epoch  5 :\n",
      "mean loss =  tensor(3.9059)\n"
     ]
    },
    {
     "name": "stderr",
     "output_type": "stream",
     "text": [
      "100%|███████████████████████████████████████| 1420/1420 [14:32<00:00,  1.63it/s]\n"
     ]
    },
    {
     "name": "stdout",
     "output_type": "stream",
     "text": [
      "epoch  6 :\n",
      "mean loss =  tensor(3.9050)\n"
     ]
    },
    {
     "name": "stderr",
     "output_type": "stream",
     "text": [
      "100%|█████████████████████████████████████████| 251/251 [01:44<00:00,  2.41it/s]\n"
     ]
    },
    {
     "name": "stdout",
     "output_type": "stream",
     "text": [
      "mean val loss =  tensor(3.9034)\n",
      "accuracy =  0.0037387836490528413\n"
     ]
    },
    {
     "name": "stderr",
     "output_type": "stream",
     "text": [
      "100%|███████████████████████████████████████| 1420/1420 [14:29<00:00,  1.63it/s]\n"
     ]
    },
    {
     "name": "stdout",
     "output_type": "stream",
     "text": [
      "epoch  7 :\n",
      "mean loss =  tensor(3.9050)\n"
     ]
    },
    {
     "name": "stderr",
     "output_type": "stream",
     "text": [
      "100%|███████████████████████████████████████| 1420/1420 [14:33<00:00,  1.63it/s]\n"
     ]
    },
    {
     "name": "stdout",
     "output_type": "stream",
     "text": [
      "epoch  8 :\n",
      "mean loss =  tensor(3.9050)\n"
     ]
    },
    {
     "name": "stderr",
     "output_type": "stream",
     "text": [
      "100%|█████████████████████████████████████████| 251/251 [01:46<00:00,  2.36it/s]\n"
     ]
    },
    {
     "name": "stdout",
     "output_type": "stream",
     "text": [
      "mean val loss =  tensor(3.9029)\n",
      "accuracy =  0.0037387836490528413\n"
     ]
    },
    {
     "name": "stderr",
     "output_type": "stream",
     "text": [
      "100%|███████████████████████████████████████| 1420/1420 [14:37<00:00,  1.62it/s]\n"
     ]
    },
    {
     "name": "stdout",
     "output_type": "stream",
     "text": [
      "epoch  9 :\n",
      "mean loss =  tensor(3.9045)\n"
     ]
    },
    {
     "name": "stderr",
     "output_type": "stream",
     "text": [
      "100%|███████████████████████████████████████| 1420/1420 [14:28<00:00,  1.63it/s]\n"
     ]
    },
    {
     "name": "stdout",
     "output_type": "stream",
     "text": [
      "epoch  10 :\n",
      "mean loss =  tensor(3.9049)\n"
     ]
    },
    {
     "name": "stderr",
     "output_type": "stream",
     "text": [
      "100%|█████████████████████████████████████████| 251/251 [01:44<00:00,  2.39it/s]\n"
     ]
    },
    {
     "name": "stdout",
     "output_type": "stream",
     "text": [
      "mean val loss =  tensor(3.9056)\n",
      "accuracy =  0.0037387836490528413\n"
     ]
    },
    {
     "name": "stderr",
     "output_type": "stream",
     "text": [
      "100%|███████████████████████████████████████| 1420/1420 [14:31<00:00,  1.63it/s]\n"
     ]
    },
    {
     "name": "stdout",
     "output_type": "stream",
     "text": [
      "epoch  11 :\n",
      "mean loss =  tensor(3.9048)\n"
     ]
    },
    {
     "name": "stderr",
     "output_type": "stream",
     "text": [
      " 47%|██████████████████▋                     | 662/1420 [06:45<07:35,  1.66it/s]"
     ]
    }
   ],
   "source": [
    "train(epoch = 40)"
   ]
  },
  {
   "cell_type": "code",
   "execution_count": null,
   "id": "33e15f41",
   "metadata": {},
   "outputs": [],
   "source": []
  }
 ],
 "metadata": {
  "kernelspec": {
   "display_name": "Python 3 (ipykernel)",
   "language": "python",
   "name": "python3"
  },
  "language_info": {
   "codemirror_mode": {
    "name": "ipython",
    "version": 3
   },
   "file_extension": ".py",
   "mimetype": "text/x-python",
   "name": "python",
   "nbconvert_exporter": "python",
   "pygments_lexer": "ipython3",
   "version": "3.8.15"
  }
 },
 "nbformat": 4,
 "nbformat_minor": 5
}
